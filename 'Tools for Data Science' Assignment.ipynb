{
 "cells": [
  {
   "cell_type": "markdown",
   "id": "d8783f53",
   "metadata": {},
   "source": [
    "# 'Tools for Data Science' Assignment"
   ]
  },
  {
   "cell_type": "markdown",
   "id": "a4b60c8b",
   "metadata": {},
   "source": [
    "**In this notebook, Data Science Tools are summarized.**"
   ]
  },
  {
   "cell_type": "markdown",
   "id": "e4bec0ab",
   "metadata": {},
   "source": [
    "**Objectives:**\n",
    "\n",
    "-  Popular languages for Data Science\n",
    "-  Commonly used libraries used by Data Scientists\n",
    "-  Arithmetic expressions\n"
   ]
  },
  {
   "cell_type": "markdown",
   "id": "d485e90a",
   "metadata": {},
   "source": [
    "**Some of the popular languages that Data Scientists use are:**\n",
    "\n",
    "1. Python\n",
    "2. R\n",
    "3. SQL\n",
    "4. Java"
   ]
  },
  {
   "cell_type": "markdown",
   "id": "70ddde7b",
   "metadata": {},
   "source": [
    "**Some of the commonly used libraries used by Data Scientists include:**\n",
    "1. NumPy\n",
    "2. Pandas\n",
    "3. Matplotlib Data Visualization"
   ]
  },
  {
   "cell_type": "markdown",
   "id": "af508b6a",
   "metadata": {},
   "source": [
    "**Table of Data Science tools:**"
   ]
  },
  {
   "cell_type": "code",
   "execution_count": 23,
   "id": "0fc14168",
   "metadata": {},
   "outputs": [
    {
     "name": "stdout",
     "output_type": "stream",
     "text": [
      "Requirement already satisfied: tabulate in c:\\users\\ghash\\anaconda3\\lib\\site-packages (0.8.10)\n",
      "+----------------------+\n",
      "| Data Science Tools   |\n",
      "+======================+\n",
      "| Python               |\n",
      "+----------------------+\n",
      "| R                    |\n",
      "+----------------------+\n",
      "| Jupyter Notebook     |\n",
      "+----------------------+\n",
      "| SQL                  |\n",
      "+----------------------+\n"
     ]
    }
   ],
   "source": [
    "!pip install tabulate\n",
    "# import module\n",
    "from tabulate import tabulate\n",
    " \n",
    "# assign data\n",
    "mydata = [\n",
    "    [\"Python\"],\n",
    "    [\"R\"],\n",
    "    [\"Jupyter Notebook\"],\n",
    "      [\"SQL\"]\n",
    "]\n",
    " \n",
    "# create header\n",
    "head = [\"Data Science Tools\"]\n",
    " \n",
    "# display table\n",
    "print(tabulate(mydata, headers=head, tablefmt=\"grid\"))"
   ]
  },
  {
   "cell_type": "markdown",
   "id": "6b473932",
   "metadata": {},
   "source": [
    "**Below are a few examples of evaluating arithmetic expressions in Python:**"
   ]
  },
  {
   "cell_type": "code",
   "execution_count": 24,
   "id": "18203f93",
   "metadata": {},
   "outputs": [
    {
     "name": "stdout",
     "output_type": "stream",
     "text": [
      "Requirement already satisfied: tabulate in c:\\users\\ghash\\anaconda3\\lib\\site-packages (0.8.10)\n",
      "+-------------+----------+----------------+\n",
      "| Operators   | Syntax   | Functioning    |\n",
      "+=============+==========+================+\n",
      "| +           | x + y    | Addition       |\n",
      "+-------------+----------+----------------+\n",
      "| -           | x - y    | Subtraction    |\n",
      "+-------------+----------+----------------+\n",
      "| *           | x * y    | Multiplication |\n",
      "+-------------+----------+----------------+\n",
      "| /           | x / y    | Division       |\n",
      "+-------------+----------+----------------+\n",
      "| //          | x // y   | Quotient       |\n",
      "+-------------+----------+----------------+\n",
      "| %           | x % y    | Remainder      |\n",
      "+-------------+----------+----------------+\n",
      "| **          | x ** y   | Exponentiation |\n",
      "+-------------+----------+----------------+\n"
     ]
    }
   ],
   "source": [
    "!pip install tabulate\n",
    "# import module\n",
    "from tabulate import tabulate\n",
    " \n",
    "# assign data\n",
    "mydata = [\n",
    "    [\"+\",\"x + y\" ,\"Addition\" ],\n",
    "    [\"-\", \"x - y\",\"Subtraction\"],\n",
    "    [\"*\", \"x * y\", \"Multiplication\"],\n",
    "      [\"/\",\"x / y\" ,\"Division\"],\n",
    "    [\"//\", \"x // y\",\"Quotient\"], \n",
    "    [\"%\",\"x % y\" ,\"Remainder\"],\n",
    "    [\"**\",\"x ** y\" ,\"Exponentiation\"]\n",
    "]\n",
    " \n",
    "# create header\n",
    "head = [\"Operators\", \"Syntax\", \"Functioning\"]\n",
    " \n",
    "# display table\n",
    "print(tabulate(mydata, headers=head, tablefmt=\"grid\"))"
   ]
  },
  {
   "cell_type": "markdown",
   "id": "5c6f0b9a",
   "metadata": {},
   "source": [
    "**Adding Numbers:**"
   ]
  },
  {
   "cell_type": "code",
   "execution_count": 2,
   "id": "23b34807",
   "metadata": {},
   "outputs": [
    {
     "data": {
      "text/plain": [
       "5"
      ]
     },
     "execution_count": 2,
     "metadata": {},
     "output_type": "execute_result"
    }
   ],
   "source": [
    "a=2\n",
    "b=3\n",
    "c=a+b\n",
    "c"
   ]
  },
  {
   "cell_type": "markdown",
   "id": "97a7fb60",
   "metadata": {},
   "source": [
    "**Multiplying Numbers:**"
   ]
  },
  {
   "cell_type": "code",
   "execution_count": 3,
   "id": "17fe90fd",
   "metadata": {},
   "outputs": [
    {
     "data": {
      "text/plain": [
       "6"
      ]
     },
     "execution_count": 3,
     "metadata": {},
     "output_type": "execute_result"
    }
   ],
   "source": [
    "a=2\n",
    "b=3\n",
    "d=a*b\n",
    "d"
   ]
  },
  {
   "cell_type": "markdown",
   "id": "0215f2ee",
   "metadata": {},
   "source": [
    "**Converting Minutes to Hours:**"
   ]
  },
  {
   "cell_type": "code",
   "execution_count": 6,
   "id": "2a69f1b2",
   "metadata": {},
   "outputs": [
    {
     "name": "stdout",
     "output_type": "stream",
     "text": [
      "You have entered the following number of minutes:  90\n",
      "Minutes:  30\n",
      "Hours:  1.0\n",
      "90 is equivalent to : 1.0 hours : 30 min. \n"
     ]
    }
   ],
   "source": [
    "def timeConv (num):\n",
    "  print (\"You have entered the following number of minutes: \", num)\n",
    "  minutes = num % 60\n",
    "  print (\"Minutes: \", minutes)\n",
    "  hours = (num - minutes)/60\n",
    "  print (\"Hours: \", hours)\n",
    "  result = \"{} is equivalent to : \".format(num) + str(hours) + \" hours \" + \": \" + str(minutes) + \" min. \"\n",
    "  return result\n",
    "\n",
    "print (timeConv(90))\n"
   ]
  },
  {
   "cell_type": "markdown",
   "id": "b647e4fe",
   "metadata": {},
   "source": [
    " # Author"
   ]
  },
  {
   "cell_type": "markdown",
   "id": "78de44f2",
   "metadata": {},
   "source": [
    "Sophie Piroozfar"
   ]
  }
 ],
 "metadata": {
  "kernelspec": {
   "display_name": "Python 3 (ipykernel)",
   "language": "python",
   "name": "python3"
  },
  "language_info": {
   "codemirror_mode": {
    "name": "ipython",
    "version": 3
   },
   "file_extension": ".py",
   "mimetype": "text/x-python",
   "name": "python",
   "nbconvert_exporter": "python",
   "pygments_lexer": "ipython3",
   "version": "3.9.13"
  }
 },
 "nbformat": 4,
 "nbformat_minor": 5
}
